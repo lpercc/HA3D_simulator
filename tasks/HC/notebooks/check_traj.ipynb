{
 "cells": [
  {
   "cell_type": "code",
   "execution_count": 32,
   "metadata": {},
   "outputs": [],
   "source": [
    "import numpy as np "
   ]
  },
  {
   "cell_type": "code",
   "execution_count": 33,
   "metadata": {},
   "outputs": [],
   "source": [
    "sample = np.load('/home/qid/minghanli/HC3D_simulator/tasks/HC/trajs/train_trajs_0.pkl', allow_pickle=True)"
   ]
  },
  {
   "cell_type": "code",
   "execution_count": 34,
   "metadata": {},
   "outputs": [
    {
     "data": {
      "text/plain": [
       "10000"
      ]
     },
     "execution_count": 34,
     "metadata": {},
     "output_type": "execute_result"
    }
   ],
   "source": [
    "len(sample)"
   ]
  },
  {
   "cell_type": "code",
   "execution_count": 30,
   "metadata": {},
   "outputs": [],
   "source": [
    "first_sample = sample[0].copy()\n",
    "del sample"
   ]
  },
  {
   "cell_type": "code",
   "execution_count": 31,
   "metadata": {},
   "outputs": [
    {
     "data": {
      "text/plain": [
       "{'instr_id': '2571_0',\n",
       " 'path': [('d65b6505904448d1940e679c9a098047', 2.617993877991494, 0.0),\n",
       "  ('d65b6505904448d1940e679c9a098047', 3.141592653589793, 0.0),\n",
       "  ('701f7128272a4bb2acd9dbd89b5cdf6f', 3.141592653589793, 0.0),\n",
       "  ('c429b363fd3145fe8a7631bbe9644066', 3.141592653589793, 0.0),\n",
       "  ('da5fa65c13e643719a20cbb818c9a85d', 3.141592653589793, 0.0),\n",
       "  ('c8112f69d34d476fbb29e6b3909deba2', 3.141592653589793, 0.0),\n",
       "  ('c8112f69d34d476fbb29e6b3909deba2', 3.665191429188092, 0.0),\n",
       "  ('c8112f69d34d476fbb29e6b3909deba2', 4.1887902047863905, 0.0),\n",
       "  ('c8112f69d34d476fbb29e6b3909deba2', 4.71238898038469, 0.0),\n",
       "  ('b2e9278f9b8f4661abcb0446d2cbb98e', 4.71238898038469, 0.0)],\n",
       " 'unique_path': ['d65b6505904448d1940e679c9a098047',\n",
       "  '701f7128272a4bb2acd9dbd89b5cdf6f',\n",
       "  'c429b363fd3145fe8a7631bbe9644066',\n",
       "  'da5fa65c13e643719a20cbb818c9a85d',\n",
       "  'c8112f69d34d476fbb29e6b3909deba2',\n",
       "  'b2e9278f9b8f4661abcb0446d2cbb98e'],\n",
       " 'teacher': [5, 5, 5, 0, 0, 0, 0, 0, 0, 0],\n",
       " 'state_features': [array([ 0.        ,  0.0277632 ,  0.06793843, ...,  1.3500091 ,\n",
       "         -0.03047164, -0.71645296], dtype=float32),\n",
       "  array([ 0.        ,  0.0416215 ,  0.        , ...,  1.3500091 ,\n",
       "         -0.03047164, -0.71645296], dtype=float32),\n",
       "  array([ 0.        ,  0.03121641,  0.00526191, ...,  1.3500091 ,\n",
       "         -0.03047164, -0.71645296], dtype=float32),\n",
       "  array([ 0.        ,  0.20836371,  0.        , ...,  1.3500091 ,\n",
       "         -0.03047164, -0.71645296], dtype=float32),\n",
       "  array([ 0.        ,  0.17265837,  0.00489082, ...,  1.3500091 ,\n",
       "         -0.03047164, -0.71645296], dtype=float32),\n",
       "  array([ 0.        ,  0.02376941,  0.02597615, ...,  1.3500091 ,\n",
       "         -0.03047164, -0.71645296], dtype=float32),\n",
       "  array([ 0.        ,  0.08670889,  0.        , ...,  1.3500091 ,\n",
       "         -0.03047164, -0.71645296], dtype=float32),\n",
       "  array([ 0.        ,  0.08795558,  0.        , ...,  1.3500091 ,\n",
       "         -0.03047164, -0.71645296], dtype=float32),\n",
       "  array([ 0.        ,  0.02047928,  0.06363265, ...,  1.3500091 ,\n",
       "         -0.03047164, -0.71645296], dtype=float32),\n",
       "  array([ 0.        ,  0.07030617,  0.00825372, ...,  1.3500091 ,\n",
       "         -0.03047164, -0.71645296], dtype=float32)],\n",
       " 'final_reward': [-0.1, -0.1, -0.1, -0.1, -0.1, -0.1, -0.1, -0.1, -0.1, -3.0],\n",
       " 'target_reward': [0.0, 0.0, 0.0, 0.0, 0.0, 0.0, 0.0, 0.0, 0.0, -3.0],\n",
       " 'path_reward': [-0.1, -0.1, -0.1, -0.1, -0.1, -0.1, -0.1, -0.1, -0.1, 0.0],\n",
       " 'missing_reward': [0.0, 0.0, 0.0, 0.0, 0.0, 0.0, 0.0, 0.0, 0.0, 0.0],\n",
       " 'human_reward': [0.0, 0.0, 0.0, 0.0, 0.0, 0.0, 0.0, 0.0, 0.0, 0.0],\n",
       " 'actions': [0, 5, 5, 5, 5, 0, 0, 0, 5, 4],\n",
       " 'crashed': [0, 0, 0, 0, 0, 0, 0, 0, 0, 0]}"
      ]
     },
     "execution_count": 31,
     "metadata": {},
     "output_type": "execute_result"
    }
   ],
   "source": [
    "first_sample"
   ]
  },
  {
   "cell_type": "code",
   "execution_count": null,
   "metadata": {},
   "outputs": [],
   "source": []
  }
 ],
 "metadata": {
  "kernelspec": {
   "display_name": "bci",
   "language": "python",
   "name": "python3"
  },
  "language_info": {
   "codemirror_mode": {
    "name": "ipython",
    "version": 3
   },
   "file_extension": ".py",
   "mimetype": "text/x-python",
   "name": "python",
   "nbconvert_exporter": "python",
   "pygments_lexer": "ipython3",
   "version": "3.10.14"
  }
 },
 "nbformat": 4,
 "nbformat_minor": 2
}
