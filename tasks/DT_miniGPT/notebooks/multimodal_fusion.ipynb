{
 "cells": [
  {
   "cell_type": "code",
   "execution_count": 17,
   "metadata": {},
   "outputs": [
    {
     "name": "stdout",
     "output_type": "stream",
     "text": [
      "Attention output shape: torch.Size([32, 768])\n",
      "Attention weights shape: torch.Size([32, 32])\n"
     ]
    }
   ],
   "source": [
    "import torch\n",
    "import torch.nn as nn\n",
    "\n",
    "# Define the dimensions\n",
    "embed_size = 768  # Size of the embedding vector\n",
    "num_heads = 8     # Number of attention heads\n",
    "\n",
    "# Initialize the MultiheadAttention layer\n",
    "multihead_attn = nn.MultiheadAttention(embed_dim=embed_size, num_heads=num_heads, batch_first=True)\n",
    "\n",
    "# Create dummy input data\n",
    "# Note: input tensors need to be of shape (L, N, E) where L is the sequence length,\n",
    "# N is the batch size, and E is the embedding dimension.\n",
    "inputs = torch.randn(32, 768) # (batch_size, seq_length, embed_size)\n",
    "\n",
    "# Apply the multihead attention to the input data\n",
    "# attn_output shape: (seq_length, batch_size, embed_size)\n",
    "# attn_output_weights shape: (batch_size, seq_length, seq_length) - attention weights\n",
    "attn_output, attn_output_weights = multihead_attn(inputs, inputs, inputs)\n",
    "\n",
    "print(\"Attention output shape:\", attn_output.shape)\n",
    "print(\"Attention weights shape:\", attn_output_weights.shape)"
   ]
  },
  {
   "cell_type": "code",
   "execution_count": 4,
   "metadata": {},
   "outputs": [
    {
     "name": "stderr",
     "output_type": "stream",
     "text": [
      "/home/qid/ananconda3/envs/hc3d_simulator/lib/python3.8/site-packages/torch/nn/modules/transformer.py:286: UserWarning: enable_nested_tensor is True, but self.use_nested_tensor is False because encoder_layer.self_attn.batch_first was not True(use batch_first for better inference performance)\n",
      "  warnings.warn(f\"enable_nested_tensor is True, but self.use_nested_tensor is False because {why_not_sparsity_fast_path}\")\n"
     ]
    }
   ],
   "source": [
    "encoder_layer = nn.TransformerEncoderLayer(d_model=512, nhead=8)\n",
    "transformer_encoder = nn.TransformerEncoder(encoder_layer, num_layers=6)\n",
    "src = torch.rand(10, 32, 512)\n",
    "out = transformer_encoder(src)"
   ]
  },
  {
   "cell_type": "code",
   "execution_count": 5,
   "metadata": {},
   "outputs": [
    {
     "data": {
      "text/plain": [
       "torch.Size([10, 32, 512])"
      ]
     },
     "execution_count": 5,
     "metadata": {},
     "output_type": "execute_result"
    }
   ],
   "source": [
    "out.shape"
   ]
  },
  {
   "cell_type": "code",
   "execution_count": 7,
   "metadata": {},
   "outputs": [
    {
     "name": "stdout",
     "output_type": "stream",
     "text": [
      " MultiheadAttention(\n",
      "  (out_proj): NonDynamicallyQuantizableLinear(in_features=768, out_features=768, bias=True)\n",
      ")\n",
      "out_proj NonDynamicallyQuantizableLinear(in_features=768, out_features=768, bias=True)\n"
     ]
    }
   ],
   "source": [
    "for mn, m in nn.MultiheadAttention(embed_dim=embed_size, num_heads=num_heads, batch_first=True).named_modules():\n",
    "    print(mn, m)"
   ]
  },
  {
   "cell_type": "code",
   "execution_count": 14,
   "metadata": {},
   "outputs": [],
   "source": [
    "model = nn.Sequential(nn.MultiheadAttention(embed_dim=embed_size, num_heads=num_heads, batch_first=True))"
   ]
  },
  {
   "cell_type": "code",
   "execution_count": 15,
   "metadata": {},
   "outputs": [
    {
     "name": "stdout",
     "output_type": "stream",
     "text": [
      " Sequential(\n",
      "  (0): MultiheadAttention(\n",
      "    (out_proj): NonDynamicallyQuantizableLinear(in_features=768, out_features=768, bias=True)\n",
      "  )\n",
      ")\n",
      "0 MultiheadAttention(\n",
      "  (out_proj): NonDynamicallyQuantizableLinear(in_features=768, out_features=768, bias=True)\n",
      ")\n",
      "0.out_proj NonDynamicallyQuantizableLinear(in_features=768, out_features=768, bias=True)\n"
     ]
    }
   ],
   "source": [
    "for mn, m in model.named_modules():\n",
    "    print(mn, m)"
   ]
  },
  {
   "cell_type": "code",
   "execution_count": null,
   "metadata": {},
   "outputs": [],
   "source": []
  }
 ],
 "metadata": {
  "kernelspec": {
   "display_name": "hc3d_simulator",
   "language": "python",
   "name": "python3"
  },
  "language_info": {
   "codemirror_mode": {
    "name": "ipython",
    "version": 3
   },
   "file_extension": ".py",
   "mimetype": "text/x-python",
   "name": "python",
   "nbconvert_exporter": "python",
   "pygments_lexer": "ipython3",
   "version": "3.8.10"
  }
 },
 "nbformat": 4,
 "nbformat_minor": 2
}
