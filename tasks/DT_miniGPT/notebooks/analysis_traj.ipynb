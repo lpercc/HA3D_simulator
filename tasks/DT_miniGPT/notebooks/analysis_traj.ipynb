{
 "cells": [
  {
   "cell_type": "code",
   "execution_count": 2,
   "metadata": {},
   "outputs": [],
   "source": [
    "import pandas as pd"
   ]
  },
  {
   "cell_type": "code",
   "execution_count": 3,
   "metadata": {},
   "outputs": [],
   "source": [
    "df = pd.read_json('/home/qid/minghanli/HC3D_simulator/tasks/DT_miniGPT/results/miniGPT_teacher_random_reward_strategy_1_15/val_seen_result.json')"
   ]
  },
  {
   "cell_type": "code",
   "execution_count": 4,
   "metadata": {},
   "outputs": [
    {
     "data": {
      "text/html": [
       "<div>\n",
       "<style scoped>\n",
       "    .dataframe tbody tr th:only-of-type {\n",
       "        vertical-align: middle;\n",
       "    }\n",
       "\n",
       "    .dataframe tbody tr th {\n",
       "        vertical-align: top;\n",
       "    }\n",
       "\n",
       "    .dataframe thead th {\n",
       "        text-align: right;\n",
       "    }\n",
       "</style>\n",
       "<table border=\"1\" class=\"dataframe\">\n",
       "  <thead>\n",
       "    <tr style=\"text-align: right;\">\n",
       "      <th></th>\n",
       "      <th>instr_id</th>\n",
       "      <th>trajectory</th>\n",
       "    </tr>\n",
       "  </thead>\n",
       "  <tbody>\n",
       "    <tr>\n",
       "      <th>0</th>\n",
       "      <td>11270</td>\n",
       "      <td>[[be1a38f2bec74de79395d0a938234d38, 0.0, 0.0, ...</td>\n",
       "    </tr>\n",
       "    <tr>\n",
       "      <th>1</th>\n",
       "      <td>11271</td>\n",
       "      <td>[[be1a38f2bec74de79395d0a938234d38, 0.0, 0.0, ...</td>\n",
       "    </tr>\n",
       "    <tr>\n",
       "      <th>2</th>\n",
       "      <td>11272</td>\n",
       "      <td>[[be1a38f2bec74de79395d0a938234d38, 0.0, 0.0, ...</td>\n",
       "    </tr>\n",
       "    <tr>\n",
       "      <th>3</th>\n",
       "      <td>5510</td>\n",
       "      <td>[[373c50dfa27649188f8e5b66c28f10a7, 1.04719755...</td>\n",
       "    </tr>\n",
       "    <tr>\n",
       "      <th>4</th>\n",
       "      <td>5511</td>\n",
       "      <td>[[373c50dfa27649188f8e5b66c28f10a7, 1.04719755...</td>\n",
       "    </tr>\n",
       "    <tr>\n",
       "      <th>...</th>\n",
       "      <td>...</td>\n",
       "      <td>...</td>\n",
       "    </tr>\n",
       "    <tr>\n",
       "      <th>1016</th>\n",
       "      <td>39381</td>\n",
       "      <td>[[4f232bec0d894e798b504ccb73b0eed8, 3.14159265...</td>\n",
       "    </tr>\n",
       "    <tr>\n",
       "      <th>1017</th>\n",
       "      <td>39382</td>\n",
       "      <td>[[4f232bec0d894e798b504ccb73b0eed8, 3.14159265...</td>\n",
       "    </tr>\n",
       "    <tr>\n",
       "      <th>1018</th>\n",
       "      <td>23070</td>\n",
       "      <td>[[df9d294a3f8849f6ab267f658847f700, 5.75958653...</td>\n",
       "    </tr>\n",
       "    <tr>\n",
       "      <th>1019</th>\n",
       "      <td>23071</td>\n",
       "      <td>[[df9d294a3f8849f6ab267f658847f700, 5.75958653...</td>\n",
       "    </tr>\n",
       "    <tr>\n",
       "      <th>1020</th>\n",
       "      <td>23072</td>\n",
       "      <td>[[df9d294a3f8849f6ab267f658847f700, 5.75958653...</td>\n",
       "    </tr>\n",
       "  </tbody>\n",
       "</table>\n",
       "<p>1021 rows × 2 columns</p>\n",
       "</div>"
      ],
      "text/plain": [
       "      instr_id                                         trajectory\n",
       "0        11270  [[be1a38f2bec74de79395d0a938234d38, 0.0, 0.0, ...\n",
       "1        11271  [[be1a38f2bec74de79395d0a938234d38, 0.0, 0.0, ...\n",
       "2        11272  [[be1a38f2bec74de79395d0a938234d38, 0.0, 0.0, ...\n",
       "3         5510  [[373c50dfa27649188f8e5b66c28f10a7, 1.04719755...\n",
       "4         5511  [[373c50dfa27649188f8e5b66c28f10a7, 1.04719755...\n",
       "...        ...                                                ...\n",
       "1016     39381  [[4f232bec0d894e798b504ccb73b0eed8, 3.14159265...\n",
       "1017     39382  [[4f232bec0d894e798b504ccb73b0eed8, 3.14159265...\n",
       "1018     23070  [[df9d294a3f8849f6ab267f658847f700, 5.75958653...\n",
       "1019     23071  [[df9d294a3f8849f6ab267f658847f700, 5.75958653...\n",
       "1020     23072  [[df9d294a3f8849f6ab267f658847f700, 5.75958653...\n",
       "\n",
       "[1021 rows x 2 columns]"
      ]
     },
     "execution_count": 4,
     "metadata": {},
     "output_type": "execute_result"
    }
   ],
   "source": [
    "df"
   ]
  },
  {
   "cell_type": "code",
   "execution_count": null,
   "metadata": {},
   "outputs": [],
   "source": []
  }
 ],
 "metadata": {
  "kernelspec": {
   "display_name": "hc3d_simulator",
   "language": "python",
   "name": "python3"
  },
  "language_info": {
   "codemirror_mode": {
    "name": "ipython",
    "version": 3
   },
   "file_extension": ".py",
   "mimetype": "text/x-python",
   "name": "python",
   "nbconvert_exporter": "python",
   "pygments_lexer": "ipython3",
   "version": "3.8.10"
  }
 },
 "nbformat": 4,
 "nbformat_minor": 2
}
