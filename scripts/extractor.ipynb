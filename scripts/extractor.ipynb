{
 "cells": [
  {
   "cell_type": "code",
   "execution_count": 18,
   "metadata": {},
   "outputs": [],
   "source": [
    "from video_feature_loader import TimmExtractor\n",
    "import torch\n",
    "MODEL_NAME = \"resnet152.a1_in1k\"\n",
    "VIDEO_LEN = 80\n",
    "WIDTH = 640\n",
    "HEIGHT = 480\n",
    "CHANNEL = 3\n",
    "device = 'cuda:0' if torch.cuda.is_available() else 'cpu'\n",
    "extractor = TimmExtractor(model_name=MODEL_NAME, fps=VIDEO_LEN, device=device)"
   ]
  },
  {
   "cell_type": "code",
   "execution_count": 30,
   "metadata": {},
   "outputs": [
    {
     "ename": "SyntaxError",
     "evalue": "invalid syntax (1329761492.py, line 7)",
     "output_type": "error",
     "traceback": [
      "\u001b[0;36m  Cell \u001b[0;32mIn[30], line 7\u001b[0;36m\u001b[0m\n\u001b[0;31m    print(model.layer4.(0))\u001b[0m\n\u001b[0m                       ^\u001b[0m\n\u001b[0;31mSyntaxError\u001b[0m\u001b[0;31m:\u001b[0m invalid syntax\n"
     ]
    }
   ],
   "source": [
    "import timm\n",
    "\n",
    "# 加载模型\n",
    "model = timm.create_model(MODEL_NAME, pretrained=True)\n",
    "\n",
    "# 打印模型结构，寻找你感兴趣的层\n",
    "print(model.layer4)"
   ]
  },
  {
   "cell_type": "code",
   "execution_count": 19,
   "metadata": {},
   "outputs": [
    {
     "data": {
      "text/plain": [
       "(80, 480, 640, 3)"
      ]
     },
     "execution_count": 19,
     "metadata": {},
     "output_type": "execute_result"
    }
   ],
   "source": [
    "# 生成取值范围在0到255之间的随机整数数组\n",
    "import numpy as np\n",
    "video = np.random.randint(0, 256, size=(VIDEO_LEN, HEIGHT, WIDTH, CHANNEL), dtype=np.uint8)\n",
    "video.shape"
   ]
  },
  {
   "cell_type": "code",
   "execution_count": 20,
   "metadata": {},
   "outputs": [],
   "source": [
    "extractor.load_video(video)\n",
    "feature = extractor.extract_features(keep_T=True)"
   ]
  },
  {
   "cell_type": "code",
   "execution_count": 21,
   "metadata": {},
   "outputs": [
    {
     "data": {
      "text/plain": [
       "(80, 2048)"
      ]
     },
     "execution_count": 21,
     "metadata": {},
     "output_type": "execute_result"
    }
   ],
   "source": [
    "feature.shape"
   ]
  },
  {
   "cell_type": "code",
   "execution_count": null,
   "metadata": {},
   "outputs": [],
   "source": []
  },
  {
   "cell_type": "code",
   "execution_count": null,
   "metadata": {},
   "outputs": [],
   "source": []
  },
  {
   "cell_type": "code",
   "execution_count": null,
   "metadata": {},
   "outputs": [],
   "source": []
  }
 ],
 "metadata": {
  "kernelspec": {
   "display_name": "Python 3.10.13 ('hc3d_simulator')",
   "language": "python",
   "name": "python3"
  },
  "language_info": {
   "codemirror_mode": {
    "name": "ipython",
    "version": 3
   },
   "file_extension": ".py",
   "mimetype": "text/x-python",
   "name": "python",
   "nbconvert_exporter": "python",
   "pygments_lexer": "ipython3",
   "version": "3.10.14"
  },
  "orig_nbformat": 4,
  "vscode": {
   "interpreter": {
    "hash": "7f96c2e9b6f2b90ac346131ea26227ba322e2de6550cf3c684819196f2d67836"
   }
  }
 },
 "nbformat": 4,
 "nbformat_minor": 2
}
