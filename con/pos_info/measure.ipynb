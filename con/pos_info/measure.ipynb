{
 "cells": [
  {
   "cell_type": "code",
   "execution_count": 1,
   "metadata": {},
   "outputs": [],
   "source": [
    "import math\n",
    "def azimuthAngle( x1,  y1,  x2,  y2):\n",
    "    angle = 0.0\n",
    "    dx = x2 - x1\n",
    "    dy = y2 - y1\n",
    "    if  x2 == x1:\n",
    "        angle = math.pi / 2.0\n",
    "        if  y2 == y1 :\n",
    "            angle = 0.0\n",
    "        elif y2 < y1 :\n",
    "            angle = 3.0 * math.pi / 2.0\n",
    "    elif x2 > x1 and y2 > y1:\n",
    "        angle = math.atan(dx / dy)\n",
    "    elif  x2 > x1 and  y2 < y1 :\n",
    "        angle = math.pi / 2 + math.atan(-dy / dx)\n",
    "    elif  x2 < x1 and y2 < y1 :\n",
    "        angle = math.pi + math.atan(dx / dy)\n",
    "    elif  x2 < x1 and y2 > y1 :\n",
    "        angle = 3.0 * math.pi / 2.0 + math.atan(dy / -dx)\n",
    "    return (angle * 180 / math.pi)\n",
    "\n",
    "## 2 3\n",
    "angle1 = azimuthAngle(-4.57753, -4.39104, -4.29874, -7.08902)\n",
    "## 4\n",
    "angle2 = azimuthAngle(-4.57753, -4.39104, -4.59775, -5.94865)\n",
    "## 2\n",
    "angle3 = azimuthAngle(-4.57753, -4.39104, -2.94913, 2.81818) \n",
    "## 5\n",
    "angle4 = azimuthAngle(-4.57753, -4.39104, -4.35982, -2.54385)\n",
    "## 3\n",
    "angle5 = azimuthAngle(-4.57753, -4.39104, -4.01251, -0.826705)\n",
    "## 1\n",
    "angle6 = azimuthAngle(-4.57753, -4.39104, -4.27459, 1.31898)\n",
    "\n",
    "-4.37148   -3.297"
   ]
  },
  {
   "cell_type": "code",
   "execution_count": 3,
   "metadata": {},
   "outputs": [
    {
     "name": "stdout",
     "output_type": "stream",
     "text": [
      "174.1004015689063 180.74373918461973 12.72822444048048 6.7218762880358245 9.007602103475719 3.0369290450192263\n",
      "180.74373918461973\n"
     ]
    }
   ],
   "source": [
    "print(angle1, angle2, angle3, angle4, angle5, angle6)\n",
    "print(angle2)"
   ]
  },
  {
   "cell_type": "code",
   "execution_count": null,
   "metadata": {},
   "outputs": [],
   "source": []
  }
 ],
 "metadata": {
  "kernelspec": {
   "display_name": "base",
   "language": "python",
   "name": "python3"
  },
  "language_info": {
   "codemirror_mode": {
    "name": "ipython",
    "version": 3
   },
   "file_extension": ".py",
   "mimetype": "text/x-python",
   "name": "python",
   "nbconvert_exporter": "python",
   "pygments_lexer": "ipython3",
   "version": "3.9.13 (main, Aug 25 2022, 23:26:10) \n[GCC 11.2.0]"
  },
  "orig_nbformat": 4,
  "vscode": {
   "interpreter": {
    "hash": "9d70cd7f6f030eb6a7e767e4f151420783d2281fbc7d03a7ba90059e7d91976d"
   }
  }
 },
 "nbformat": 4,
 "nbformat_minor": 2
}
